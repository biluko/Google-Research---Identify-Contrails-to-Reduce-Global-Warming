{
 "cells": [
  {
   "cell_type": "markdown",
   "id": "6ee7f54f",
   "metadata": {},
   "source": [
    "# 安装库"
   ]
  },
  {
   "cell_type": "code",
   "execution_count": null,
   "id": "1c9418c0",
   "metadata": {},
   "outputs": [],
   "source": [
    "# 库的datasets链接地址\n",
    "\n",
    "# https://www.kaggle.com/datasets/bladerunner2022/mmcls0250\n",
    "# https://www.kaggle.com/datasets/isps737/mmdetection-2-26-0\n",
    "# https://www.kaggle.com/datasets/ermak9/pycocotools\n",
    "# https://www.kaggle.com/code/atom1231/mmdet3-wheels"
   ]
  },
  {
   "cell_type": "code",
   "execution_count": null,
   "id": "573009d4",
   "metadata": {
    "_kg_hide-input": true,
    "_kg_hide-output": true,
    "collapsed": true,
    "execution": {
     "iopub.execute_input": "2023-08-11T03:27:30.843600Z",
     "iopub.status.busy": "2023-08-11T03:27:30.843203Z",
     "iopub.status.idle": "2023-08-11T03:32:46.192002Z",
     "shell.execute_reply": "2023-08-11T03:32:46.190823Z"
    },
    "jupyter": {
     "outputs_hidden": true
    },
    "papermill": {
     "duration": 315.357082,
     "end_time": "2023-08-11T03:32:46.194788",
     "exception": false,
     "start_time": "2023-08-11T03:27:30.837706",
     "status": "completed"
    },
    "tags": []
   },
   "outputs": [],
   "source": [
    "# # Install pycocotools package\n",
    "import os\n",
    "!mkdir /kaggle/working/packages\n",
    "!cp -r /kaggle/input/pycocotools/* /kaggle/working/packages\n",
    "os.chdir(\"/kaggle/working/packages/pycocotools-2.0.6/\")\n",
    "!python setup.py install -q\n",
    "!pip install . --no-index --find-links /kaggle/working/packages/ -q\n",
    "\n",
    "!pip install /kaggle/input/mmdetection-2-26-0/mmdetection-2-26-0/addict-2.4.0-py3-none-any.whl\n",
    "!pip install /kaggle/input/mmdetection-2-26-0/mmdetection-2-26-0/yapf-0.32.0-py2.py3-none-any.whl\n",
    "!pip install /kaggle/input/mmdetection-2-26-0/mmdetection-2-26-0/terminal-0.4.0-py3-none-any.whl\n",
    "!pip install /kaggle/input/mmdetection-2-26-0/mmdetection-2-26-0/terminaltables-3.1.10-py2.py3-none-any.whl\n",
    "#ytt\n",
    "!pip install /kaggle/input/mmdet3-wheels/mmcv_full-1.7.1-cp310-cp310-linux_x86_64.whl\n",
    "\n",
    "!cp -r /kaggle/input/mmdetection-2-26-0/mmdetection-2-26-0/mmdetection/ /kaggle/working/\n",
    "%cd /kaggle/working/mmdetection\n",
    "!pip install -e . --no-deps\n",
    "%cd /kaggle/working/\n",
    "\n",
    "!pip install /kaggle/input/mmdetection-2-26-0/mmdetection-2-26-0/mmdet-2.26.0-py3-none-any.whl\n",
    "\n",
    "!pip install /kaggle/input/mmcls0250/mmcls-0.25.0-py2.py3-none-any.whl"
   ]
  },
  {
   "cell_type": "code",
   "execution_count": null,
   "id": "e018a86a",
   "metadata": {
    "_cell_guid": "b1076dfc-b9ad-4769-8c92-a6c4dae69d19",
    "_uuid": "8f2839f25d086af736a60e9eeb907d3b93b6e0e5",
    "execution": {
     "iopub.execute_input": "2023-08-11T03:32:46.211851Z",
     "iopub.status.busy": "2023-08-11T03:32:46.211541Z",
     "iopub.status.idle": "2023-08-11T03:32:52.119282Z",
     "shell.execute_reply": "2023-08-11T03:32:52.118349Z"
    },
    "papermill": {
     "duration": 5.918833,
     "end_time": "2023-08-11T03:32:52.121649",
     "exception": false,
     "start_time": "2023-08-11T03:32:46.202816",
     "status": "completed"
    },
    "tags": []
   },
   "outputs": [],
   "source": [
    "import cv2\n",
    "import numpy as np\n",
    "import pandas as pd\n",
    "import os\n",
    "from glob import glob\n",
    "from tqdm.notebook import tqdm\n",
    "import sys\n",
    "import gc\n",
    "sys.path.append('/kaggle/input/mmsegmentation-030/mmsegmentation-030') # 将我们的mmsegmentation包上传到kaggle\n",
    "from mmseg.apis import init_segmentor, inference_segmentor\n",
    "from mmcv.utils import config\n",
    "import torch\n",
    "import matplotlib.pyplot as plt\n",
    "device = torch.device(\"cuda:0\" if torch.cuda.is_available() else \"cpu\")\n"
   ]
  },
  {
   "cell_type": "markdown",
   "id": "e48d72c8",
   "metadata": {},
   "source": [
    "# 配置"
   ]
  },
  {
   "cell_type": "code",
   "execution_count": null,
   "id": "6f436102",
   "metadata": {
    "execution": {
     "iopub.execute_input": "2023-08-11T03:32:52.139094Z",
     "iopub.status.busy": "2023-08-11T03:32:52.138782Z",
     "iopub.status.idle": "2023-08-11T03:34:32.079966Z",
     "shell.execute_reply": "2023-08-11T03:34:32.078562Z"
    },
    "papermill": {
     "duration": 99.954084,
     "end_time": "2023-08-11T03:34:32.083678",
     "exception": false,
     "start_time": "2023-08-11T03:32:52.129594",
     "status": "completed"
    },
    "tags": []
   },
   "outputs": [],
   "source": [
    "configs = [\n",
    "    '/kaggle/input/upernet-convnext/upernet_convnext_l_config.py',\n",
    "    '/kaggle/input/upernet-convnext/upernet_convnext_l_config.py',\n",
    "    '/kaggle/input/upernet-convnext/upernet_convnext_l_config.py',\n",
    "    '/kaggle/input/upernet-convnext/upernet_convnext_l_config.py',\n",
    "    '/kaggle/input/upernet-convnext/upernet_convnext_l_config.py',\n",
    "\n",
    "    '/kaggle/input/upernet-convnext/upernet_convnext_b_config.py',\n",
    "    '/kaggle/input/upernet-convnext/upernet_convnext_b_config.py',\n",
    "    '/kaggle/input/upernet-convnext/upernet_convnext_b_config.py',\n",
    "    '/kaggle/input/upernet-convnext/upernet_convnext_b_config.py',\n",
    "    '/kaggle/input/upernet-convnext/upernet_convnext_b_config.py',\n",
    "\n",
    "]\n",
    "\n",
    "ckpts = [\n",
    "    f'/kaggle/input/upernet-convnext/upernet_convnext_l_fold0_epoch_24_0.85_0.7034.pth',\n",
    "    f'/kaggle/input/upernet-convnext/upernet_convnext_l_fold1_epoch_22_0.80_0.7088.pth',\n",
    "    f'/kaggle/input/upernet-convnext/upernet_convnext_l_fold2_epoch_25_0.85_0.7012.pth',\n",
    "    f'/kaggle/input/upernet-convnext/upernet_convnext_l_fold3_epoch_23_0.85_0.7055.pth',\n",
    "    f'/kaggle/input/upernet-convnext/upernet_convnext_l_fold4_epoch_16_0.85_0.7000.pth',\n",
    "    \n",
    "    f'/kaggle/input/upernet-convnext/upernet_convnext_l_fold0_epoch_19_0.85_0.6813.pth',\n",
    "    f'/kaggle/input/upernet-convnext/upernet_convnext_l_fold1_epoch_21_0.85_0.6945.pth',\n",
    "    f'/kaggle/input/upernet-convnext/upernet_convnext_l_fold2_epoch_23_0.85_0.6866.pth',\n",
    "    f'/kaggle/input/upernet-convnext/upernet_convnext_l_fold3_epoch_26_0.80_0.6885.pth',\n",
    "    f'/kaggle/input/upernet-convnext/upernet_convnext_l_fold4_epoch_23_0.85_0.7043.pth',\n",
    "]\n",
    "\n",
    "models = []\n",
    "for idx,(cfg, ckpt) in enumerate(zip(configs, ckpts)):\n",
    "    cfg = config.Config.fromfile(cfg) # 读取配置文件\n",
    "    cfg.model.test_cfg.return_logits = True # 返回logits\n",
    "    print(cfg)\n",
    "    model = init_segmentor(cfg, ckpt, device='cuda:0') # 初始化模型\n",
    "    models.append(model) # 加入模型列表\n",
    "print(len(models))"
   ]
  },
  {
   "cell_type": "code",
   "execution_count": null,
   "id": "67331972",
   "metadata": {
    "execution": {
     "iopub.execute_input": "2023-08-11T03:34:32.122578Z",
     "iopub.status.busy": "2023-08-11T03:34:32.122016Z",
     "iopub.status.idle": "2023-08-11T03:34:32.210466Z",
     "shell.execute_reply": "2023-08-11T03:34:32.209247Z"
    },
    "papermill": {
     "duration": 0.111722,
     "end_time": "2023-08-11T03:34:32.214305",
     "exception": false,
     "start_time": "2023-08-11T03:34:32.102583",
     "status": "completed"
    },
    "tags": []
   },
   "outputs": [],
   "source": [
    "base_dir = '/kaggle/input/google-research-identify-contrails-reduce-global-warming' # 数据集路径\n",
    "test_df = pd.read_csv(f'{base_dir}/sample_submission.csv') # 读取测试集\n",
    "test_df[\"path\"] = test_df[\"record_id\"].apply(lambda x: f\"{base_dir}/test/{x}/\") # 构造测试集路径\n",
    "test_df"
   ]
  },
  {
   "cell_type": "markdown",
   "id": "9cad7c85",
   "metadata": {
    "papermill": {
     "duration": 0.009002,
     "end_time": "2023-08-11T03:34:32.238295",
     "exception": false,
     "start_time": "2023-08-11T03:34:32.229293",
     "status": "completed"
    },
    "tags": []
   },
   "source": [
    "# datasets"
   ]
  },
  {
   "cell_type": "code",
   "execution_count": null,
   "id": "3eb135c7",
   "metadata": {
    "execution": {
     "iopub.execute_input": "2023-08-11T03:34:32.257773Z",
     "iopub.status.busy": "2023-08-11T03:34:32.257469Z",
     "iopub.status.idle": "2023-08-11T03:34:32.266107Z",
     "shell.execute_reply": "2023-08-11T03:34:32.265082Z"
    },
    "papermill": {
     "duration": 0.021214,
     "end_time": "2023-08-11T03:34:32.268369",
     "exception": false,
     "start_time": "2023-08-11T03:34:32.247155",
     "status": "completed"
    },
    "tags": []
   },
   "outputs": [],
   "source": [
    "# 定义一个函数来读取数据记录， 符合 false color 的格式\n",
    "def read_record(directory):\n",
    "    record_data = {}\n",
    "    for x in [\n",
    "        \"band_11\", \n",
    "        \"band_14\", \n",
    "        \"band_15\"\n",
    "    ]:\n",
    "\n",
    "        record_data[x] = np.load(os.path.join(directory, x + \".npy\"))\n",
    "\n",
    "    return record_data\n",
    "\n",
    "# 数据归一化函数，将数据映射到 [0, 1] 范围\n",
    "def normalize_range(data, bounds):\n",
    "    \"\"\"Maps data to the range [0, 1].\"\"\"\n",
    "    return (data - bounds[0]) / (bounds[1] - bounds[0])\n",
    "\n",
    "# 定义函数获得假色图像\n",
    "def get_false_color(record_data):\n",
    "    _T11_BOUNDS = (243, 303)\n",
    "    _CLOUD_TOP_TDIFF_BOUNDS = (-4, 5)\n",
    "    _TDIFF_BOUNDS = (-4, 2)\n",
    "\n",
    "    N_TIMES_BEFORE = 4\n",
    "\n",
    "    r = normalize_range(record_data[\"band_15\"] - record_data[\"band_14\"], _TDIFF_BOUNDS)\n",
    "    g = normalize_range(record_data[\"band_14\"] - record_data[\"band_11\"], _CLOUD_TOP_TDIFF_BOUNDS)\n",
    "    b = normalize_range(record_data[\"band_14\"], _T11_BOUNDS)\n",
    "    false_color = np.clip(np.stack([r, g, b], axis=2), 0, 1)\n",
    "    img = false_color[..., N_TIMES_BEFORE]\n",
    "\n",
    "    return img"
   ]
  },
  {
   "cell_type": "code",
   "execution_count": null,
   "id": "851a12db",
   "metadata": {
    "execution": {
     "iopub.execute_input": "2023-08-11T03:34:32.287856Z",
     "iopub.status.busy": "2023-08-11T03:34:32.287587Z",
     "iopub.status.idle": "2023-08-11T03:34:32.294330Z",
     "shell.execute_reply": "2023-08-11T03:34:32.293386Z"
    },
    "papermill": {
     "duration": 0.019089,
     "end_time": "2023-08-11T03:34:32.296343",
     "exception": false,
     "start_time": "2023-08-11T03:34:32.277254",
     "status": "completed"
    },
    "tags": []
   },
   "outputs": [],
   "source": [
    "def rle_encode(x, fg_val=1):\n",
    "    \"\"\"\n",
    "    使用RLE编码方法对图像进行编码。\n",
    "\n",
    "    Args:\n",
    "        x: numpy数组，形状为 (height, width)，其中1表示遮罩部分，0表示背景。\n",
    "        fg_val: 前景值，默认为1，表示遮罩部分。\n",
    "\n",
    "    Returns: 返回RLE编码后的列表\n",
    "    \"\"\"\n",
    "\n",
    "    # 将图像展平，并找到值为fg_val（默认为1，表示前景或遮罩）的所有像素的索引。\n",
    "    # .T表示对数组进行转置，使其在内存中以列优先（Fortran顺序）存储。\n",
    "    dots = np.where(x.T.flatten() == fg_val)[0]\n",
    "\n",
    "    run_lengths = []  # 存储RLE编码的结果\n",
    "    prev = -2  # 初始化一个前一个元素的值，用于后续的比较\n",
    "\n",
    "    # 遍历所有前景像素的索引\n",
    "    for b in dots:\n",
    "        # 如果当前索引和前一个索引之间的差大于1，则表示是一个新的连续序列的开始\n",
    "        if b > prev + 1:\n",
    "            run_lengths.extend((b + 1, 0))  # 添加新的开始位置和长度为0的连续序列\n",
    "\n",
    "        # 更新当前连续序列的长度\n",
    "        run_lengths[-1] += 1\n",
    "\n",
    "        # 更新前一个元素的值\n",
    "        prev = b\n",
    "\n",
    "    return run_lengths\n",
    "\n",
    "def list_to_string(x):\n",
    "    \"\"\"\n",
    "    将列表转换为字符串表示。\n",
    "    \n",
    "    如果列表为空，则返回'-'。\n",
    "\n",
    "    Args:\n",
    "        x: 待转换的列表。\n",
    "\n",
    "    Returns: 返回转换后的字符串\n",
    "    \"\"\"\n",
    "\n",
    "    # 如果列表非空\n",
    "    if x:\n",
    "        # 将列表转换为字符串，并移除'['、']'和','字符\n",
    "        s = str(x).replace(\"[\", \"\").replace(\"]\", \"\").replace(\",\", \"\")\n",
    "    else:\n",
    "        # 如果列表为空，返回'-'\n",
    "        s = '-'\n",
    "    return s\n"
   ]
  },
  {
   "cell_type": "markdown",
   "id": "70e2c06a",
   "metadata": {
    "papermill": {
     "duration": 0.008752,
     "end_time": "2023-08-11T03:34:32.314026",
     "exception": false,
     "start_time": "2023-08-11T03:34:32.305274",
     "status": "completed"
    },
    "tags": []
   },
   "source": [
    "# Inference"
   ]
  },
  {
   "cell_type": "code",
   "execution_count": null,
   "id": "bda1e4a7",
   "metadata": {
    "execution": {
     "iopub.execute_input": "2023-08-11T03:34:32.332965Z",
     "iopub.status.busy": "2023-08-11T03:34:32.332677Z",
     "iopub.status.idle": "2023-08-11T03:34:37.545380Z",
     "shell.execute_reply": "2023-08-11T03:34:37.544031Z"
    },
    "papermill": {
     "duration": 5.225109,
     "end_time": "2023-08-11T03:34:37.547962",
     "exception": false,
     "start_time": "2023-08-11T03:34:32.322853",
     "status": "completed"
    },
    "tags": []
   },
   "outputs": [],
   "source": [
    "# 初始化一个列表用于存储所有图像的预测结果\n",
    "all_preds = []\n",
    "\n",
    "# 遍历测试数据集的每一条记录\n",
    "for idx, record_id, encoded_pixels, path in test_df.itertuples():\n",
    "    # 从给定的路径读取记录（可能是图像或其他数据）\n",
    "    data = read_record(path)\n",
    "\n",
    "    # 获取虚假颜色图像（false color image）或其他某种预处理的图像\n",
    "    img = get_false_color(data)\n",
    "    # 将图像数据转换为浮点类型\n",
    "    img = img.astype(np.float32)\n",
    "\n",
    "    # 初始化一个列表用于存储各个模型的预测结果\n",
    "    models_res = []\n",
    "\n",
    "    # 遍历每个模型并进行推断\n",
    "    for model in models:\n",
    "        model_pred = inference_segmentor(model, img)[0]\n",
    "        models_res.append(model_pred)\n",
    "\n",
    "    # 将各个模型的预测结果合并到一个数组中\n",
    "    models_res = np.array(models_res)\n",
    "\n",
    "    # 计算模型预测结果的平均值\n",
    "    img_pred = np.mean(models_res, axis=0)\n",
    "    print(\"img_pred:\", img_pred.shape)\n",
    "\n",
    "    # 对平均后的预测结果进行阈值处理，将大于0.75的值设置为1，小于的设置为0\n",
    "    img_pred = 1 * (img_pred > 0.75)\n",
    "\n",
    "    # 使用RLE编码对预测的遮罩进行编码\n",
    "    rle = list_to_string(rle_encode(img_pred))\n",
    "\n",
    "    # 将该图像的记录ID和RLE编码添加到预测结果列表中\n",
    "    all_preds.append({'record_id': record_id, 'encoded_pixels': rle})"
   ]
  },
  {
   "cell_type": "code",
   "execution_count": null,
   "id": "6b6ed02c",
   "metadata": {
    "execution": {
     "iopub.execute_input": "2023-08-11T03:34:38.657197Z",
     "iopub.status.busy": "2023-08-11T03:34:38.656324Z",
     "iopub.status.idle": "2023-08-11T03:34:38.672202Z",
     "shell.execute_reply": "2023-08-11T03:34:38.671144Z"
    },
    "papermill": {
     "duration": 0.028323,
     "end_time": "2023-08-11T03:34:38.674280",
     "exception": false,
     "start_time": "2023-08-11T03:34:38.645957",
     "status": "completed"
    },
    "tags": []
   },
   "outputs": [],
   "source": [
    "# 保存submission.csv 用于提交\n",
    "!rm -rf /kaggle/working/*\n",
    "df = pd.DataFrame(all_preds)\n",
    "df.to_csv('submission.csv', index=False)\n",
    "df"
   ]
  }
 ],
 "metadata": {
  "kernelspec": {
   "display_name": "Python 3",
   "language": "python",
   "name": "python3"
  },
  "language_info": {
   "codemirror_mode": {
    "name": "ipython",
    "version": 3
   },
   "file_extension": ".py",
   "mimetype": "text/x-python",
   "name": "python",
   "nbconvert_exporter": "python",
   "pygments_lexer": "ipython3",
   "version": "3.10.12"
  },
  "papermill": {
   "default_parameters": {},
   "duration": 439.781804,
   "end_time": "2023-08-11T03:34:40.720004",
   "environment_variables": {},
   "exception": null,
   "input_path": "__notebook__.ipynb",
   "output_path": "__notebook__.ipynb",
   "parameters": {},
   "start_time": "2023-08-11T03:27:20.938200",
   "version": "2.4.0"
  }
 },
 "nbformat": 4,
 "nbformat_minor": 5
}
